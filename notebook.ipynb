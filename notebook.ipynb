{
 "cells": [
  {
   "cell_type": "markdown",
   "metadata": {},
   "source": [
    "# Auto-Detect: Data-Driven Error Detection in Tables\n",
    "\n",
    "#### 1. Paper\n",
    "https://dl.acm.org/doi/10.1145/3183713.3196889\n",
    "\n",
    "\n",
    "#### 2. Basics\n",
    "* Statistics-based technique leveraging co-occurence statistics from a large table corpus for error-detection\n",
    "    * Co-occurence is calculated using a statistical measure called \"point-wise mutual information\" (PMI)\n",
    "    * This score is then normalized onto a scale between -1 and 1\n",
    "    * To avoid getting negative results for all patterns which weren't part of the training set, a smoothing is applied to the co-occurence statistics\n",
    "* Cells are converted using generalization languages, spanned from a set of possible generalizations for the english language\n",
    "* Picks the most suitable generalization language based on a static precision requirement\n",
    "* Uses ensemble of generalizations to judge the compatibility of different values\n",
    "* Different languages are sensitive to different types of misalignments\n",
    "* Aims to resemblintuition of humans for errors \n",
    "* Allows adaptation to a customizable memory budget for client side application through the use of the CM-Sketch data structure\n",
    "\n",
    "\n",
    "#### 3. Demonstration"
   ]
  },
  {
   "cell_type": "code",
   "execution_count": null,
   "metadata": {},
   "outputs": [],
   "source": [
    "import dill\n",
    "\n",
    "autodetect = dill.load(open(\"autodetect.pkl\", \"rb\"))\n",
    "autodetect.trainings_set.add_redis_connections()\n",
    "\n",
    "\n",
    "demos = [\n",
    "    (\"2000-24-12\", \"2018-08-12\"),\n",
    "    (\"2003-24-12\", \"2038-08-12\"),\n",
    "    (\"01.12.2070\", \"3123-08-12\"),\n",
    "    (\"01.12.2070\", \"24/08/2952\"),\n",
    "    (\"Mr. Smith\", \"Mr. Homes\"),\n",
    "    (\"Mrs. Smith\", \"Mr. Smith\"),\n",
    "    (\"14-28\", \"na-na\"),\n",
    "    (\"20-23\", \"14-18\"),\n",
    "    (\"3:28 min\", \"3 23 minutes\"),\n",
    "    (\"June 2000\", \"01.06.2000\"),\n",
    "    (\"0.26\", \"26%\"),\n",
    "    (\"(511) 325161\", \"511 325-161\"),\n",
    "    (\"511 325612\", \"511-32-32-51\"),\n",
    "]\n",
    "\n",
    "for demo in demos:\n",
    "    try:\n",
    "        compatible, confidence = autodetect.predict(demo[0], demo[1])\n",
    "        answer = \"compatible\" if compatible else \"incompatible\"\n",
    "        print(f\"{demo[0]} and {demo[1]} are {answer}, confidence: {confidence}\")\n",
    "    except Exception as e:\n",
    "        print(f\"Something went wrong: {e}\")"
   ]
  },
  {
   "cell_type": "code",
   "execution_count": null,
   "metadata": {},
   "outputs": [],
   "source": [
    "value1 = \"Put something here\"\n",
    "value2 = \"Put something else here\""
   ]
  },
  {
   "cell_type": "code",
   "execution_count": null,
   "metadata": {},
   "outputs": [],
   "source": [
    "try:\n",
    "    compatible, confidence = autodetect.predict(value1, value2)\n",
    "    answer = \"compatible\" if compatible else \"incompatible\"\n",
    "    print(f\"{demo[0]} and {demo[1]} are {answer}, confidence: {confidence}\")\n",
    "except Exception as e:\n",
    "    print(f\"Something went wrong: {e}\")"
   ]
  },
  {
   "cell_type": "markdown",
   "metadata": {},
   "source": [
    "#### 5. Try yourself"
   ]
  },
  {
   "cell_type": "code",
   "execution_count": null,
   "metadata": {},
   "outputs": [],
   "source": [
    "import pprint\n",
    "from src.test_auto_detect import read_test_files\n",
    "\n",
    "pp = pprint.PrettyPrinter(depth=1)\n",
    "\n",
    "test_files = read_test_files(\"test_data\")\n",
    "for test_file in test_files:\n",
    "    statistics = test_file.test(autodetect.predict)\n",
    "    print(f\"=== Testing against {test_file.name} ===\")\n",
    "    print(f\"Statistics:\")\n",
    "    pp.pprint(statistics)\n",
    "    print()\n",
    "    print()"
   ]
  },
  {
   "cell_type": "markdown",
   "metadata": {},
   "source": [
    "#### 4. Test performance"
   ]
  }
 ],
 "metadata": {
  "kernelspec": {
   "display_name": "Python 3",
   "language": "python",
   "name": "python3"
  },
  "language_info": {
   "codemirror_mode": {
    "name": "ipython",
    "version": 3
   },
   "file_extension": ".py",
   "mimetype": "text/x-python",
   "name": "python",
   "nbconvert_exporter": "python",
   "pygments_lexer": "ipython3",
   "version": "3.11.5"
  }
 },
 "nbformat": 4,
 "nbformat_minor": 5
}
